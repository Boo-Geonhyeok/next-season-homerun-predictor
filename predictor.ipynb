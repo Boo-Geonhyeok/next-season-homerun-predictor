{
  "nbformat": 4,
  "nbformat_minor": 0,
  "metadata": {
    "colab": {
      "provenance": [],
      "authorship_tag": "ABX9TyPpJLeN/hMVB0RwFrbXJmlG",
      "include_colab_link": true
    },
    "kernelspec": {
      "name": "python3",
      "display_name": "Python 3"
    },
    "language_info": {
      "name": "python"
    }
  },
  "cells": [
    {
      "cell_type": "markdown",
      "metadata": {
        "id": "view-in-github",
        "colab_type": "text"
      },
      "source": [
        "<a href=\"https://colab.research.google.com/github/Boo-Geonhyeok/next-season-homerun-predictor/blob/main/predictor.ipynb\" target=\"_parent\"><img src=\"https://colab.research.google.com/assets/colab-badge.svg\" alt=\"Open In Colab\"/></a>"
      ]
    },
    {
      "cell_type": "code",
      "source": [
        "import numpy as np\n",
        "data = np.genfromtxt('allhitters.csv', delimiter=',')"
      ],
      "metadata": {
        "id": "orO4TTHkCYMi"
      },
      "execution_count": null,
      "outputs": []
    },
    {
      "cell_type": "code",
      "source": [
        "print(\"Shape of the array:\", data.shape)"
      ],
      "metadata": {
        "colab": {
          "base_uri": "https://localhost:8080/"
        },
        "id": "uOcShFVpJ5Xn",
        "outputId": "d26ddf52-8281-4e7b-b26f-7e08d0eb8a91"
      },
      "execution_count": null,
      "outputs": [
        {
          "output_type": "stream",
          "name": "stdout",
          "text": [
            "Shape of the array: (43802, 3)\n"
          ]
        }
      ]
    },
    {
      "cell_type": "code",
      "source": [
        "!pip install pandas\n"
      ],
      "metadata": {
        "colab": {
          "base_uri": "https://localhost:8080/"
        },
        "id": "Ng328cQpK3Ix",
        "outputId": "d26bf1d3-f84d-45bf-e432-13189429e4aa"
      },
      "execution_count": null,
      "outputs": [
        {
          "output_type": "stream",
          "name": "stdout",
          "text": [
            "Looking in indexes: https://pypi.org/simple, https://us-python.pkg.dev/colab-wheels/public/simple/\n",
            "Requirement already satisfied: pandas in /usr/local/lib/python3.8/dist-packages (1.3.5)\n",
            "Requirement already satisfied: pytz>=2017.3 in /usr/local/lib/python3.8/dist-packages (from pandas) (2022.7.1)\n",
            "Requirement already satisfied: numpy>=1.17.3 in /usr/local/lib/python3.8/dist-packages (from pandas) (1.22.4)\n",
            "Requirement already satisfied: python-dateutil>=2.7.3 in /usr/local/lib/python3.8/dist-packages (from pandas) (2.8.2)\n",
            "Requirement already satisfied: six>=1.5 in /usr/local/lib/python3.8/dist-packages (from python-dateutil>=2.7.3->pandas) (1.15.0)\n"
          ]
        }
      ]
    },
    {
      "cell_type": "code",
      "source": [
        "import pandas as pd\n",
        "\n",
        "# read the CSV file\n",
        "df = pd.read_csv('allhitters.csv', header=None, names=['player', 'homeruns'])\n",
        "\n",
        "# group the data by player name and create pairs of homerun values\n",
        "df_pairs = df.groupby('player')['homeruns'].apply(lambda x: list(zip(x[:-1], x[1:])))\n",
        "\n",
        "# flatten the pairs and create a new DataFrame with the combined homerun values\n",
        "new_data = []\n",
        "for player, pairs in df_pairs.items():\n",
        "    for pair in pairs:\n",
        "        new_data.append([player] + list(pair))\n",
        "df_combined = pd.DataFrame(new_data, columns=['player', 'homeruns1', 'homeruns2'])\n",
        "\n",
        "# save the new DataFrame to a CSV file\n",
        "# df_combined.to_csv('file_combined.csv', index=False)\n",
        "print(df_combined[:25])"
      ],
      "metadata": {
        "colab": {
          "base_uri": "https://localhost:8080/"
        },
        "id": "zp7f2GoaK6aD",
        "outputId": "6bef8b53-9b21-45d0-fc70-324b53099e54"
      },
      "execution_count": null,
      "outputs": [
        {
          "output_type": "stream",
          "name": "stdout",
          "text": [
            "          player  homeruns1  homeruns2\n",
            "0     A.J. Ellis        0.0        2.0\n",
            "1     A.J. Ellis        2.0        3.0\n",
            "2     A.J. Ellis        3.0        0.0\n",
            "3     A.J. Ellis        0.0        8.0\n",
            "4     A.J. Ellis        8.0        4.0\n",
            "5     A.J. Ellis        4.0        0.0\n",
            "6     A.J. Ellis        0.0        0.0\n",
            "7     A.J. Ellis        0.0        0.0\n",
            "8     A.J. Ellis        0.0        0.0\n",
            "9     A.J. Ellis        0.0        0.0\n",
            "10    A.J. Ellis        0.0        2.0\n",
            "11    A.J. Ellis        2.0        2.0\n",
            "12    A.J. Ellis        2.0       13.0\n",
            "13    A.J. Ellis       13.0        0.0\n",
            "14    A.J. Ellis        0.0       10.0\n",
            "15    A.J. Ellis       10.0        1.0\n",
            "16    A.J. Ellis        1.0        3.0\n",
            "17    A.J. Ellis        3.0        7.0\n",
            "18    A.J. Ellis        7.0        2.0\n",
            "19    A.J. Ellis        2.0        1.0\n",
            "20    A.J. Ellis        1.0        1.0\n",
            "21    A.J. Ellis        1.0        6.0\n",
            "22    A.J. Ellis        6.0        1.0\n",
            "23  A.J. Jimenez        0.0        3.0\n",
            "24  A.J. Jimenez        3.0        5.0\n"
          ]
        }
      ]
    },
    {
      "cell_type": "code",
      "source": [
        "df = df_combined.drop('player', axis=1)"
      ],
      "metadata": {
        "id": "klFen8UAvynr"
      },
      "execution_count": null,
      "outputs": []
    },
    {
      "cell_type": "code",
      "source": [
        "print(df[:5])"
      ],
      "metadata": {
        "colab": {
          "base_uri": "https://localhost:8080/"
        },
        "id": "g2BbzS2gv-wH",
        "outputId": "4b5354c7-6fbf-4d4a-eb2b-b096bcbf9e41"
      },
      "execution_count": null,
      "outputs": [
        {
          "output_type": "stream",
          "name": "stdout",
          "text": [
            "   homeruns1  homeruns2\n",
            "0        0.0        2.0\n",
            "1        2.0        3.0\n",
            "2        3.0        0.0\n",
            "3        0.0        8.0\n",
            "4        8.0        4.0\n"
          ]
        }
      ]
    },
    {
      "cell_type": "code",
      "source": [
        "X_train = df['homeruns1'].to_numpy()\n",
        "Y_train = df['homeruns2'].to_numpy()\n",
        "\n",
        "# check the shapes of the NumPy arrays\n",
        "print(X_train.shape)  # should print (5,)\n",
        "print(Y_train.shape)  # should print (5,)"
      ],
      "metadata": {
        "colab": {
          "base_uri": "https://localhost:8080/"
        },
        "id": "AktyWV--wY-C",
        "outputId": "0213235d-3a7a-4cda-fbc6-f796bf763d6e"
      },
      "execution_count": null,
      "outputs": [
        {
          "output_type": "stream",
          "name": "stdout",
          "text": [
            "(116901,)\n",
            "(116901,)\n"
          ]
        }
      ]
    },
    {
      "cell_type": "code",
      "source": [],
      "metadata": {
        "id": "bcjASNVIxJNz"
      },
      "execution_count": null,
      "outputs": []
    },
    {
      "cell_type": "code",
      "source": [],
      "metadata": {
        "id": "8ZTjDGxexKmV"
      },
      "execution_count": null,
      "outputs": []
    },
    {
      "cell_type": "code",
      "source": [
        "import numpy as np\n",
        "np.set_printoptions(precision=2)\n",
        "from sklearn.linear_model import LinearRegression, SGDRegressor\n",
        "from sklearn.preprocessing import StandardScaler"
      ],
      "metadata": {
        "id": "ppada5HBwowu"
      },
      "execution_count": null,
      "outputs": []
    },
    {
      "cell_type": "code",
      "source": [
        "import matplotlib.pyplot as plt\n",
        "dlblue = '#0096ff'; dlorange = '#FF9300'; dldarkred='#C00000'; dlmagenta='#FF40FF'; dlpurple='#7030A0'; "
      ],
      "metadata": {
        "id": "P9VBUJFPwsmn"
      },
      "execution_count": null,
      "outputs": []
    },
    {
      "cell_type": "code",
      "source": [
        "linear_model = LinearRegression()\n",
        "df = df.dropna()\n",
        "X_train = df['homeruns1'].to_numpy()\n",
        "Y_train = df['homeruns2'].to_numpy()\n",
        "#X must be a 2-D Matrix\n",
        "linear_model.fit(X_train.reshape(-1, 1), Y_train) "
      ],
      "metadata": {
        "colab": {
          "base_uri": "https://localhost:8080/",
          "height": 74
        },
        "id": "Cz2XnhH9w3Sb",
        "outputId": "097e548c-80ae-4ce7-ca06-3c74e1812442"
      },
      "execution_count": null,
      "outputs": [
        {
          "output_type": "execute_result",
          "data": {
            "text/plain": [
              "LinearRegression()"
            ],
            "text/html": [
              "<style>#sk-container-id-1 {color: black;background-color: white;}#sk-container-id-1 pre{padding: 0;}#sk-container-id-1 div.sk-toggleable {background-color: white;}#sk-container-id-1 label.sk-toggleable__label {cursor: pointer;display: block;width: 100%;margin-bottom: 0;padding: 0.3em;box-sizing: border-box;text-align: center;}#sk-container-id-1 label.sk-toggleable__label-arrow:before {content: \"▸\";float: left;margin-right: 0.25em;color: #696969;}#sk-container-id-1 label.sk-toggleable__label-arrow:hover:before {color: black;}#sk-container-id-1 div.sk-estimator:hover label.sk-toggleable__label-arrow:before {color: black;}#sk-container-id-1 div.sk-toggleable__content {max-height: 0;max-width: 0;overflow: hidden;text-align: left;background-color: #f0f8ff;}#sk-container-id-1 div.sk-toggleable__content pre {margin: 0.2em;color: black;border-radius: 0.25em;background-color: #f0f8ff;}#sk-container-id-1 input.sk-toggleable__control:checked~div.sk-toggleable__content {max-height: 200px;max-width: 100%;overflow: auto;}#sk-container-id-1 input.sk-toggleable__control:checked~label.sk-toggleable__label-arrow:before {content: \"▾\";}#sk-container-id-1 div.sk-estimator input.sk-toggleable__control:checked~label.sk-toggleable__label {background-color: #d4ebff;}#sk-container-id-1 div.sk-label input.sk-toggleable__control:checked~label.sk-toggleable__label {background-color: #d4ebff;}#sk-container-id-1 input.sk-hidden--visually {border: 0;clip: rect(1px 1px 1px 1px);clip: rect(1px, 1px, 1px, 1px);height: 1px;margin: -1px;overflow: hidden;padding: 0;position: absolute;width: 1px;}#sk-container-id-1 div.sk-estimator {font-family: monospace;background-color: #f0f8ff;border: 1px dotted black;border-radius: 0.25em;box-sizing: border-box;margin-bottom: 0.5em;}#sk-container-id-1 div.sk-estimator:hover {background-color: #d4ebff;}#sk-container-id-1 div.sk-parallel-item::after {content: \"\";width: 100%;border-bottom: 1px solid gray;flex-grow: 1;}#sk-container-id-1 div.sk-label:hover label.sk-toggleable__label {background-color: #d4ebff;}#sk-container-id-1 div.sk-serial::before {content: \"\";position: absolute;border-left: 1px solid gray;box-sizing: border-box;top: 0;bottom: 0;left: 50%;z-index: 0;}#sk-container-id-1 div.sk-serial {display: flex;flex-direction: column;align-items: center;background-color: white;padding-right: 0.2em;padding-left: 0.2em;position: relative;}#sk-container-id-1 div.sk-item {position: relative;z-index: 1;}#sk-container-id-1 div.sk-parallel {display: flex;align-items: stretch;justify-content: center;background-color: white;position: relative;}#sk-container-id-1 div.sk-item::before, #sk-container-id-1 div.sk-parallel-item::before {content: \"\";position: absolute;border-left: 1px solid gray;box-sizing: border-box;top: 0;bottom: 0;left: 50%;z-index: -1;}#sk-container-id-1 div.sk-parallel-item {display: flex;flex-direction: column;z-index: 1;position: relative;background-color: white;}#sk-container-id-1 div.sk-parallel-item:first-child::after {align-self: flex-end;width: 50%;}#sk-container-id-1 div.sk-parallel-item:last-child::after {align-self: flex-start;width: 50%;}#sk-container-id-1 div.sk-parallel-item:only-child::after {width: 0;}#sk-container-id-1 div.sk-dashed-wrapped {border: 1px dashed gray;margin: 0 0.4em 0.5em 0.4em;box-sizing: border-box;padding-bottom: 0.4em;background-color: white;}#sk-container-id-1 div.sk-label label {font-family: monospace;font-weight: bold;display: inline-block;line-height: 1.2em;}#sk-container-id-1 div.sk-label-container {text-align: center;}#sk-container-id-1 div.sk-container {/* jupyter's `normalize.less` sets `[hidden] { display: none; }` but bootstrap.min.css set `[hidden] { display: none !important; }` so we also need the `!important` here to be able to override the default hidden behavior on the sphinx rendered scikit-learn.org. See: https://github.com/scikit-learn/scikit-learn/issues/21755 */display: inline-block !important;position: relative;}#sk-container-id-1 div.sk-text-repr-fallback {display: none;}</style><div id=\"sk-container-id-1\" class=\"sk-top-container\"><div class=\"sk-text-repr-fallback\"><pre>LinearRegression()</pre><b>In a Jupyter environment, please rerun this cell to show the HTML representation or trust the notebook. <br />On GitHub, the HTML representation is unable to render, please try loading this page with nbviewer.org.</b></div><div class=\"sk-container\" hidden><div class=\"sk-item\"><div class=\"sk-estimator sk-toggleable\"><input class=\"sk-toggleable__control sk-hidden--visually\" id=\"sk-estimator-id-1\" type=\"checkbox\" checked><label for=\"sk-estimator-id-1\" class=\"sk-toggleable__label sk-toggleable__label-arrow\">LinearRegression</label><div class=\"sk-toggleable__content\"><pre>LinearRegression()</pre></div></div></div></div></div>"
            ]
          },
          "metadata": {},
          "execution_count": 57
        }
      ]
    },
    {
      "cell_type": "code",
      "source": [
        "print(X_train.shape)  # should print (5,)\n",
        "print(Y_train.shape)"
      ],
      "metadata": {
        "colab": {
          "base_uri": "https://localhost:8080/"
        },
        "id": "WlZX_Y34xMGZ",
        "outputId": "f6e6ad76-66d5-429e-83b6-cbe856a7a345"
      },
      "execution_count": null,
      "outputs": [
        {
          "output_type": "stream",
          "name": "stdout",
          "text": [
            "(114640,)\n",
            "(114640,)\n"
          ]
        }
      ]
    },
    {
      "cell_type": "code",
      "source": [
        "b = linear_model.intercept_\n",
        "w = linear_model.coef_\n",
        "print(f\"w = {w:}, b = {b:0.2f}\")"
      ],
      "metadata": {
        "colab": {
          "base_uri": "https://localhost:8080/"
        },
        "id": "vfg7srNsxRA9",
        "outputId": "382e0e77-6812-4883-f230-f91aa623778d"
      },
      "execution_count": null,
      "outputs": [
        {
          "output_type": "stream",
          "name": "stdout",
          "text": [
            "w = [0.48], b = 3.11\n",
            "'manual' prediction: f_wb = wx+b : [578.02]\n"
          ]
        }
      ]
    },
    {
      "cell_type": "code",
      "source": [
        "y_pred = linear_model.predict(X_train.reshape(-1, 1))\n",
        "\n",
        "print(\"Prediction on training set:\", y_pred)\n"
      ],
      "metadata": {
        "colab": {
          "base_uri": "https://localhost:8080/"
        },
        "id": "GbXRW9sMxWcH",
        "outputId": "15ccb7c4-2771-4a79-e059-7939d563c052"
      },
      "execution_count": null,
      "outputs": [
        {
          "output_type": "stream",
          "name": "stdout",
          "text": [
            "Prediction on training set: [3.11 4.07 4.55 ... 4.07 5.02 3.59]\n"
          ]
        }
      ]
    },
    {
      "cell_type": "code",
      "source": [
        "\n",
        "X_test = np.array([[62]])\n",
        "print(f\"Prediction for next season homeruns: {linear_model.predict(X_test)[0]:0.2f} homeruns\")"
      ],
      "metadata": {
        "colab": {
          "base_uri": "https://localhost:8080/"
        },
        "id": "jc-VKGiYxa8r",
        "outputId": "82597fdb-33ee-469d-c547-ea349e5fb67a"
      },
      "execution_count": 68,
      "outputs": [
        {
          "output_type": "stream",
          "name": "stdout",
          "text": [
            "Prediction for next season homeruns: 32.81 homeruns\n"
          ]
        }
      ]
    }
  ]
}